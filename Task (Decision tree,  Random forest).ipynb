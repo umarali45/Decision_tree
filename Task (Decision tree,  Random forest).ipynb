{
 "cells": [
  {
   "cell_type": "markdown",
   "metadata": {},
   "source": [
    "# Import modules"
   ]
  },
  {
   "cell_type": "code",
   "execution_count": 5,
   "metadata": {},
   "outputs": [],
   "source": [
    "import pandas as pd\n",
    "import numpy as np\n",
    "import warnings\n",
    "warnings.filterwarnings('ignore')"
   ]
  },
  {
   "cell_type": "markdown",
   "metadata": {},
   "source": [
    "# import python lib for visualization"
   ]
  },
  {
   "cell_type": "code",
   "execution_count": 6,
   "metadata": {},
   "outputs": [],
   "source": [
    "import seaborn as sns\n",
    "from matplotlib import pyplot as plt\n",
    "import matplotlib\n",
    "%matplotlib inline"
   ]
  },
  {
   "cell_type": "code",
   "execution_count": 7,
   "metadata": {},
   "outputs": [
    {
     "name": "stdout",
     "output_type": "stream",
     "text": [
      "C:\\Users\\umar\\Desktop\\New folder (2)\n"
     ]
    }
   ],
   "source": [
    "cd C:\\Users\\umar\\Desktop\\New folder (2)"
   ]
  },
  {
   "cell_type": "code",
   "execution_count": 8,
   "metadata": {},
   "outputs": [],
   "source": [
    "df = pd.read_csv(\"diagnosis.csv\")\n",
    "array = df.values"
   ]
  },
  {
   "cell_type": "markdown",
   "metadata": {},
   "source": [
    "# 3. Exploratory data analysis\n",
    "Printing first 5 rows of the train dataset."
   ]
  },
  {
   "cell_type": "code",
   "execution_count": 9,
   "metadata": {},
   "outputs": [
    {
     "data": {
      "text/html": [
       "<div>\n",
       "<style scoped>\n",
       "    .dataframe tbody tr th:only-of-type {\n",
       "        vertical-align: middle;\n",
       "    }\n",
       "\n",
       "    .dataframe tbody tr th {\n",
       "        vertical-align: top;\n",
       "    }\n",
       "\n",
       "    .dataframe thead th {\n",
       "        text-align: right;\n",
       "    }\n",
       "</style>\n",
       "<table border=\"1\" class=\"dataframe\">\n",
       "  <thead>\n",
       "    <tr style=\"text-align: right;\">\n",
       "      <th></th>\n",
       "      <th>35,5</th>\n",
       "      <th>no</th>\n",
       "      <th>yes</th>\n",
       "      <th>no.1</th>\n",
       "      <th>no.2</th>\n",
       "      <th>no.3</th>\n",
       "      <th>no.4</th>\n",
       "      <th>no.5</th>\n",
       "    </tr>\n",
       "  </thead>\n",
       "  <tbody>\n",
       "    <tr>\n",
       "      <td>0</td>\n",
       "      <td>35,9</td>\n",
       "      <td>no</td>\n",
       "      <td>no</td>\n",
       "      <td>yes</td>\n",
       "      <td>yes</td>\n",
       "      <td>yes</td>\n",
       "      <td>yes</td>\n",
       "      <td>no</td>\n",
       "    </tr>\n",
       "    <tr>\n",
       "      <td>1</td>\n",
       "      <td>35,9</td>\n",
       "      <td>no</td>\n",
       "      <td>yes</td>\n",
       "      <td>no</td>\n",
       "      <td>no</td>\n",
       "      <td>no</td>\n",
       "      <td>no</td>\n",
       "      <td>no</td>\n",
       "    </tr>\n",
       "    <tr>\n",
       "      <td>2</td>\n",
       "      <td>36,0</td>\n",
       "      <td>no</td>\n",
       "      <td>no</td>\n",
       "      <td>yes</td>\n",
       "      <td>yes</td>\n",
       "      <td>yes</td>\n",
       "      <td>yes</td>\n",
       "      <td>no</td>\n",
       "    </tr>\n",
       "    <tr>\n",
       "      <td>3</td>\n",
       "      <td>36,0</td>\n",
       "      <td>no</td>\n",
       "      <td>yes</td>\n",
       "      <td>no</td>\n",
       "      <td>no</td>\n",
       "      <td>no</td>\n",
       "      <td>no</td>\n",
       "      <td>no</td>\n",
       "    </tr>\n",
       "    <tr>\n",
       "      <td>4</td>\n",
       "      <td>36,0</td>\n",
       "      <td>no</td>\n",
       "      <td>yes</td>\n",
       "      <td>no</td>\n",
       "      <td>no</td>\n",
       "      <td>no</td>\n",
       "      <td>no</td>\n",
       "      <td>no</td>\n",
       "    </tr>\n",
       "  </tbody>\n",
       "</table>\n",
       "</div>"
      ],
      "text/plain": [
       "   35,5  no  yes no.1 no.2 no.3 no.4 no.5\n",
       "0  35,9  no   no  yes  yes  yes  yes   no\n",
       "1  35,9  no  yes   no   no   no   no   no\n",
       "2  36,0  no   no  yes  yes  yes  yes   no\n",
       "3  36,0  no  yes   no   no   no   no   no\n",
       "4  36,0  no  yes   no   no   no   no   no"
      ]
     },
     "execution_count": 9,
     "metadata": {},
     "output_type": "execute_result"
    }
   ],
   "source": [
    "df.head()"
   ]
  },
  {
   "cell_type": "code",
   "execution_count": 10,
   "metadata": {},
   "outputs": [],
   "source": [
    "df.rename(columns={'35,5': 'A', 'no': 'B','yes': 'C', 'no.1': 'D','no.2': 'E','no.3': 'F', 'no.4': 'G','no.5': 'class'}, inplace=True)"
   ]
  },
  {
   "cell_type": "code",
   "execution_count": 11,
   "metadata": {},
   "outputs": [
    {
     "data": {
      "text/html": [
       "<div>\n",
       "<style scoped>\n",
       "    .dataframe tbody tr th:only-of-type {\n",
       "        vertical-align: middle;\n",
       "    }\n",
       "\n",
       "    .dataframe tbody tr th {\n",
       "        vertical-align: top;\n",
       "    }\n",
       "\n",
       "    .dataframe thead th {\n",
       "        text-align: right;\n",
       "    }\n",
       "</style>\n",
       "<table border=\"1\" class=\"dataframe\">\n",
       "  <thead>\n",
       "    <tr style=\"text-align: right;\">\n",
       "      <th></th>\n",
       "      <th>A</th>\n",
       "      <th>B</th>\n",
       "      <th>C</th>\n",
       "      <th>D</th>\n",
       "      <th>E</th>\n",
       "      <th>F</th>\n",
       "      <th>G</th>\n",
       "      <th>class</th>\n",
       "    </tr>\n",
       "  </thead>\n",
       "  <tbody>\n",
       "    <tr>\n",
       "      <td>count</td>\n",
       "      <td>119</td>\n",
       "      <td>119</td>\n",
       "      <td>119</td>\n",
       "      <td>119</td>\n",
       "      <td>119</td>\n",
       "      <td>119</td>\n",
       "      <td>119</td>\n",
       "      <td>119</td>\n",
       "    </tr>\n",
       "    <tr>\n",
       "      <td>unique</td>\n",
       "      <td>43</td>\n",
       "      <td>2</td>\n",
       "      <td>2</td>\n",
       "      <td>2</td>\n",
       "      <td>2</td>\n",
       "      <td>2</td>\n",
       "      <td>2</td>\n",
       "      <td>2</td>\n",
       "    </tr>\n",
       "    <tr>\n",
       "      <td>top</td>\n",
       "      <td>40,0</td>\n",
       "      <td>no</td>\n",
       "      <td>yes</td>\n",
       "      <td>yes</td>\n",
       "      <td>no</td>\n",
       "      <td>no</td>\n",
       "      <td>no</td>\n",
       "      <td>no</td>\n",
       "    </tr>\n",
       "    <tr>\n",
       "      <td>freq</td>\n",
       "      <td>8</td>\n",
       "      <td>90</td>\n",
       "      <td>69</td>\n",
       "      <td>80</td>\n",
       "      <td>60</td>\n",
       "      <td>69</td>\n",
       "      <td>60</td>\n",
       "      <td>69</td>\n",
       "    </tr>\n",
       "  </tbody>\n",
       "</table>\n",
       "</div>"
      ],
      "text/plain": [
       "           A    B    C    D    E    F    G class\n",
       "count    119  119  119  119  119  119  119   119\n",
       "unique    43    2    2    2    2    2    2     2\n",
       "top     40,0   no  yes  yes   no   no   no    no\n",
       "freq       8   90   69   80   60   69   60    69"
      ]
     },
     "execution_count": 11,
     "metadata": {},
     "output_type": "execute_result"
    }
   ],
   "source": [
    "df.describe()"
   ]
  },
  {
   "cell_type": "code",
   "execution_count": 12,
   "metadata": {},
   "outputs": [
    {
     "data": {
      "text/plain": [
       "(119, 8)"
      ]
     },
     "execution_count": 12,
     "metadata": {},
     "output_type": "execute_result"
    }
   ],
   "source": [
    "df.shape"
   ]
  },
  {
   "cell_type": "code",
   "execution_count": 13,
   "metadata": {},
   "outputs": [
    {
     "name": "stdout",
     "output_type": "stream",
     "text": [
      "<class 'pandas.core.frame.DataFrame'>\n",
      "RangeIndex: 119 entries, 0 to 118\n",
      "Data columns (total 8 columns):\n",
      "A        119 non-null object\n",
      "B        119 non-null object\n",
      "C        119 non-null object\n",
      "D        119 non-null object\n",
      "E        119 non-null object\n",
      "F        119 non-null object\n",
      "G        119 non-null object\n",
      "class    119 non-null object\n",
      "dtypes: object(8)\n",
      "memory usage: 7.6+ KB\n"
     ]
    }
   ],
   "source": [
    "df.info()"
   ]
  },
  {
   "cell_type": "markdown",
   "metadata": {},
   "source": [
    "No missing values in data"
   ]
  },
  {
   "cell_type": "code",
   "execution_count": 14,
   "metadata": {},
   "outputs": [
    {
     "data": {
      "text/plain": [
       "A        0\n",
       "B        0\n",
       "C        0\n",
       "D        0\n",
       "E        0\n",
       "F        0\n",
       "G        0\n",
       "class    0\n",
       "dtype: int64"
      ]
     },
     "execution_count": 14,
     "metadata": {},
     "output_type": "execute_result"
    }
   ],
   "source": [
    "df.isnull().sum()"
   ]
  },
  {
   "cell_type": "markdown",
   "metadata": {},
   "source": [
    "# # categorical attributes visualization"
   ]
  },
  {
   "cell_type": "code",
   "execution_count": 15,
   "metadata": {},
   "outputs": [
    {
     "data": {
      "text/plain": [
       "<matplotlib.axes._subplots.AxesSubplot at 0x1d3cb6a8a48>"
      ]
     },
     "execution_count": 15,
     "metadata": {},
     "output_type": "execute_result"
    },
    {
     "data": {
      "image/png": "[encoded data removed]",
      "text/plain": [
       "<Figure size 432x288 with 1 Axes>"
      ]
     },
     "metadata": {
      "needs_background": "light"
     },
     "output_type": "display_data"
    }
   ],
   "source": [
    "sns.countplot(df['B'])"
   ]
  },
  {
   "cell_type": "code",
   "execution_count": 16,
   "metadata": {},
   "outputs": [
    {
     "data": {
      "text/plain": [
       "<matplotlib.axes._subplots.AxesSubplot at 0x1d3cd27ef88>"
      ]
     },
     "execution_count": 16,
     "metadata": {},
     "output_type": "execute_result"
    },
    {
     "data": {
      "image/png": "[encoded data removed]",
      "text/plain": [
       "<Figure size 432x288 with 1 Axes>"
      ]
     },
     "metadata": {
      "needs_background": "light"
     },
     "output_type": "display_data"
    }
   ],
   "source": [
    "sns.countplot(df['C'])"
   ]
  },
  {
   "cell_type": "code",
   "execution_count": 17,
   "metadata": {},
   "outputs": [
    {
     "data": {
      "text/plain": [
       "<matplotlib.axes._subplots.AxesSubplot at 0x1d3cd27e2c8>"
      ]
     },
     "execution_count": 17,
     "metadata": {},
     "output_type": "execute_result"
    },
    {
     "data": {
      "image/png": "[encoded data removed]",
      "text/plain": [
       "<Figure size 432x288 with 1 Axes>"
      ]
     },
     "metadata": {
      "needs_background": "light"
     },
     "output_type": "display_data"
    }
   ],
   "source": [
    "sns.countplot(df['D'])"
   ]
  },
  {
   "cell_type": "code",
   "execution_count": 18,
   "metadata": {},
   "outputs": [
    {
     "data": {
      "text/plain": [
       "<matplotlib.axes._subplots.AxesSubplot at 0x1d3cd35a388>"
      ]
     },
     "execution_count": 18,
     "metadata": {},
     "output_type": "execute_result"
    },
    {
     "data": {
      "image/png": "[encoded data removed]",
      "text/plain": [
       "<Figure size 432x288 with 1 Axes>"
      ]
     },
     "metadata": {
      "needs_background": "light"
     },
     "output_type": "display_data"
    }
   ],
   "source": [
    "sns.countplot(df['E'])"
   ]
  },
  {
   "cell_type": "code",
   "execution_count": 19,
   "metadata": {},
   "outputs": [
    {
     "data": {
      "text/plain": [
       "<matplotlib.axes._subplots.AxesSubplot at 0x1d3cd3b3088>"
      ]
     },
     "execution_count": 19,
     "metadata": {},
     "output_type": "execute_result"
    },
    {
     "data": {
      "image/png": "[encoded data removed]",
      "text/plain": [
       "<Figure size 432x288 with 1 Axes>"
      ]
     },
     "metadata": {
      "needs_background": "light"
     },
     "output_type": "display_data"
    }
   ],
   "source": [
    "sns.countplot(df['F'])"
   ]
  },
  {
   "cell_type": "code",
   "execution_count": 20,
   "metadata": {},
   "outputs": [
    {
     "data": {
      "text/plain": [
       "<matplotlib.axes._subplots.AxesSubplot at 0x1d3cd4080c8>"
      ]
     },
     "execution_count": 20,
     "metadata": {},
     "output_type": "execute_result"
    },
    {
     "data": {
      "image/png": "[encoded data removed]",
      "text/plain": [
       "<Figure size 432x288 with 1 Axes>"
      ]
     },
     "metadata": {
      "needs_background": "light"
     },
     "output_type": "display_data"
    }
   ],
   "source": [
    "sns.countplot(df['G'])"
   ]
  },
  {
   "cell_type": "code",
   "execution_count": 21,
   "metadata": {},
   "outputs": [
    {
     "data": {
      "text/plain": [
       "<matplotlib.axes._subplots.AxesSubplot at 0x1d3cd45d888>"
      ]
     },
     "execution_count": 21,
     "metadata": {},
     "output_type": "execute_result"
    },
    {
     "data": {
      "image/png": "[encoded data removed]",
      "text/plain": [
       "<Figure size 432x288 with 1 Axes>"
      ]
     },
     "metadata": {
      "needs_background": "light"
     },
     "output_type": "display_data"
    }
   ],
   "source": [
    "sns.countplot(df['class'])"
   ]
  },
  {
   "cell_type": "markdown",
   "metadata": {},
   "source": [
    "putting attribute in X"
   ]
  },
  {
   "cell_type": "code",
   "execution_count": 22,
   "metadata": {},
   "outputs": [],
   "source": [
    "X = array[:,0:5]"
   ]
  },
  {
   "cell_type": "code",
   "execution_count": 23,
   "metadata": {},
   "outputs": [
    {
     "data": {
      "text/plain": [
       "array([['35,9', 'no', 'no', 'yes', 'yes'],\n",
       "       ['35,9', 'no', 'yes', 'no', 'no'],\n",
       "       ['36,0', 'no', 'no', 'yes', 'yes'],\n",
       "       ['36,0', 'no', 'yes', 'no', 'no'],\n",
       "       ['36,0', 'no', 'yes', 'no', 'no'],\n",
       "       ['36,2', 'no', 'no', 'yes', 'yes'],\n",
       "       ['36,2', 'no', 'yes', 'no', 'no'],\n",
       "       ['36,3', 'no', 'no', 'yes', 'yes'],\n",
       "       ['36,6', 'no', 'no', 'yes', 'yes'],\n",
       "       ['36,6', 'no', 'no', 'yes', 'yes'],\n",
       "       ['36,6', 'no', 'yes', 'no', 'no'],\n",
       "       ['36,6', 'no', 'yes', 'no', 'no'],\n",
       "       ['36,7', 'no', 'no', 'yes', 'yes'],\n",
       "       ['36,7', 'no', 'yes', 'no', 'no'],\n",
       "       ['36,7', 'no', 'yes', 'no', 'no'],\n",
       "       ['36,8', 'no', 'no', 'yes', 'yes'],\n",
       "       ['36,8', 'no', 'no', 'yes', 'yes'],\n",
       "       ['36,9', 'no', 'no', 'yes', 'yes'],\n",
       "       ['36,9', 'no', 'yes', 'no', 'no'],\n",
       "       ['37,0', 'no', 'no', 'yes', 'yes'],\n",
       "       ['37,0', 'no', 'no', 'yes', 'yes'],\n",
       "       ['37,0', 'no', 'yes', 'no', 'no'],\n",
       "       ['37,0', 'no', 'no', 'yes', 'yes'],\n",
       "       ['37,0', 'no', 'no', 'yes', 'yes'],\n",
       "       ['37,0', 'no', 'no', 'yes', 'yes'],\n",
       "       ['37,0', 'no', 'no', 'yes', 'yes'],\n",
       "       ['37,0', 'no', 'no', 'yes', 'no'],\n",
       "       ['37,1', 'no', 'yes', 'no', 'no'],\n",
       "       ['37,1', 'no', 'no', 'yes', 'yes'],\n",
       "       ['37,1', 'no', 'no', 'yes', 'no'],\n",
       "       ['37,2', 'no', 'no', 'yes', 'yes'],\n",
       "       ['37,2', 'no', 'yes', 'no', 'no'],\n",
       "       ['37,2', 'no', 'no', 'yes', 'no'],\n",
       "       ['37,3', 'no', 'yes', 'no', 'no'],\n",
       "       ['37,3', 'no', 'no', 'yes', 'yes'],\n",
       "       ['37,3', 'no', 'no', 'yes', 'no'],\n",
       "       ['37,4', 'no', 'yes', 'no', 'no'],\n",
       "       ['37,4', 'no', 'no', 'yes', 'no'],\n",
       "       ['37,5', 'no', 'no', 'yes', 'yes'],\n",
       "       ['37,5', 'no', 'yes', 'no', 'no'],\n",
       "       ['37,5', 'no', 'yes', 'no', 'no'],\n",
       "       ['37,5', 'no', 'no', 'yes', 'yes'],\n",
       "       ['37,5', 'no', 'no', 'yes', 'no'],\n",
       "       ['37,5', 'no', 'no', 'yes', 'no'],\n",
       "       ['37,6', 'no', 'no', 'yes', 'yes'],\n",
       "       ['37,6', 'no', 'no', 'yes', 'yes'],\n",
       "       ['37,6', 'no', 'no', 'yes', 'yes'],\n",
       "       ['37,7', 'no', 'no', 'yes', 'yes'],\n",
       "       ['37,7', 'no', 'no', 'yes', 'yes'],\n",
       "       ['37,7', 'no', 'yes', 'no', 'no'],\n",
       "       ['37,7', 'no', 'no', 'yes', 'no'],\n",
       "       ['37,8', 'no', 'yes', 'no', 'no'],\n",
       "       ['37,8', 'no', 'no', 'yes', 'yes'],\n",
       "       ['37,8', 'no', 'no', 'yes', 'no'],\n",
       "       ['37,9', 'no', 'no', 'yes', 'yes'],\n",
       "       ['37,9', 'no', 'no', 'yes', 'yes'],\n",
       "       ['37,9', 'no', 'yes', 'no', 'no'],\n",
       "       ['37,9', 'no', 'no', 'yes', 'yes'],\n",
       "       ['37,9', 'no', 'no', 'yes', 'no'],\n",
       "       ['38,0', 'no', 'yes', 'yes', 'no'],\n",
       "       ['38,0', 'no', 'yes', 'yes', 'no'],\n",
       "       ['38,1', 'no', 'yes', 'yes', 'no'],\n",
       "       ['38,3', 'no', 'yes', 'yes', 'no'],\n",
       "       ['38,5', 'no', 'yes', 'yes', 'no'],\n",
       "       ['38,7', 'no', 'yes', 'yes', 'no'],\n",
       "       ['38,9', 'no', 'yes', 'yes', 'no'],\n",
       "       ['39,0', 'no', 'yes', 'yes', 'no'],\n",
       "       ['39,4', 'no', 'yes', 'yes', 'no'],\n",
       "       ['39,7', 'no', 'yes', 'yes', 'no'],\n",
       "       ['40,0', 'yes', 'yes', 'yes', 'yes'],\n",
       "       ['40,0', 'yes', 'yes', 'yes', 'yes'],\n",
       "       ['40,0', 'yes', 'yes', 'yes', 'yes'],\n",
       "       ['40,0', 'no', 'no', 'no', 'no'],\n",
       "       ['40,0', 'no', 'no', 'no', 'no'],\n",
       "       ['40,0', 'yes', 'yes', 'no', 'yes'],\n",
       "       ['40,0', 'yes', 'yes', 'no', 'yes'],\n",
       "       ['40,0', 'no', 'yes', 'yes', 'no'],\n",
       "       ['40,1', 'yes', 'yes', 'yes', 'yes'],\n",
       "       ['40,2', 'yes', 'yes', 'yes', 'yes'],\n",
       "       ['40,2', 'no', 'no', 'no', 'no'],\n",
       "       ['40,2', 'yes', 'yes', 'no', 'yes'],\n",
       "       ['40,3', 'no', 'yes', 'yes', 'no'],\n",
       "       ['40,4', 'yes', 'yes', 'yes', 'yes'],\n",
       "       ['40,4', 'yes', 'yes', 'yes', 'yes'],\n",
       "       ['40,4', 'yes', 'yes', 'yes', 'yes'],\n",
       "       ['40,4', 'no', 'no', 'no', 'no'],\n",
       "       ['40,4', 'yes', 'yes', 'no', 'yes'],\n",
       "       ['40,5', 'yes', 'yes', 'yes', 'yes'],\n",
       "       ['40,6', 'yes', 'yes', 'yes', 'yes'],\n",
       "       ['40,6', 'no', 'no', 'no', 'no'],\n",
       "       ['40,6', 'yes', 'yes', 'no', 'yes'],\n",
       "       ['40,7', 'yes', 'yes', 'yes', 'yes'],\n",
       "       ['40,7', 'yes', 'yes', 'yes', 'yes'],\n",
       "       ['40,7', 'no', 'no', 'no', 'no'],\n",
       "       ['40,7', 'yes', 'yes', 'no', 'yes'],\n",
       "       ['40,7', 'no', 'yes', 'yes', 'no'],\n",
       "       ['40,8', 'no', 'yes', 'yes', 'no'],\n",
       "       ['40,9', 'yes', 'yes', 'yes', 'yes'],\n",
       "       ['40,9', 'yes', 'yes', 'yes', 'yes'],\n",
       "       ['40,9', 'no', 'yes', 'yes', 'no'],\n",
       "       ['41,0', 'yes', 'yes', 'yes', 'yes'],\n",
       "       ['41,0', 'no', 'no', 'no', 'no'],\n",
       "       ['41,0', 'yes', 'yes', 'no', 'yes'],\n",
       "       ['41,0', 'no', 'yes', 'yes', 'no'],\n",
       "       ['41,1', 'yes', 'yes', 'yes', 'yes'],\n",
       "       ['41,1', 'yes', 'yes', 'yes', 'yes'],\n",
       "       ['41,1', 'no', 'no', 'no', 'no'],\n",
       "       ['41,1', 'yes', 'yes', 'no', 'yes'],\n",
       "       ['41,1', 'no', 'yes', 'yes', 'no'],\n",
       "       ['41,2', 'yes', 'yes', 'yes', 'yes'],\n",
       "       ['41,2', 'no', 'no', 'no', 'no'],\n",
       "       ['41,2', 'yes', 'yes', 'no', 'yes'],\n",
       "       ['41,2', 'no', 'yes', 'yes', 'no'],\n",
       "       ['41,3', 'yes', 'yes', 'yes', 'yes'],\n",
       "       ['41,4', 'no', 'yes', 'yes', 'no'],\n",
       "       ['41,5', 'no', 'no', 'no', 'no'],\n",
       "       ['41,5', 'yes', 'yes', 'no', 'yes'],\n",
       "       ['41,5', 'no', 'yes', 'yes', 'no'],\n",
       "       ['41,5', 'no', 'yes', 'yes', 'no']], dtype=object)"
      ]
     },
     "execution_count": 23,
     "metadata": {},
     "output_type": "execute_result"
    }
   ],
   "source": [
    "X"
   ]
  },
  {
   "cell_type": "markdown",
   "metadata": {},
   "source": [
    "putting class attribute in Y"
   ]
  },
  {
   "cell_type": "code",
   "execution_count": 24,
   "metadata": {},
   "outputs": [],
   "source": [
    "Y = array[:,6:7]"
   ]
  },
  {
   "cell_type": "code",
   "execution_count": 25,
   "metadata": {},
   "outputs": [
    {
     "data": {
      "text/plain": [
       "array([['yes'],\n",
       "       ['no'],\n",
       "       ['yes'],\n",
       "       ['no'],\n",
       "       ['no'],\n",
       "       ['yes'],\n",
       "       ['no'],\n",
       "       ['yes'],\n",
       "       ['yes'],\n",
       "       ['yes'],\n",
       "       ['no'],\n",
       "       ['no'],\n",
       "       ['yes'],\n",
       "       ['no'],\n",
       "       ['no'],\n",
       "       ['yes'],\n",
       "       ['yes'],\n",
       "       ['yes'],\n",
       "       ['no'],\n",
       "       ['yes'],\n",
       "       ['yes'],\n",
       "       ['no'],\n",
       "       ['yes'],\n",
       "       ['yes'],\n",
       "       ['yes'],\n",
       "       ['yes'],\n",
       "       ['yes'],\n",
       "       ['no'],\n",
       "       ['yes'],\n",
       "       ['yes'],\n",
       "       ['yes'],\n",
       "       ['no'],\n",
       "       ['yes'],\n",
       "       ['no'],\n",
       "       ['yes'],\n",
       "       ['yes'],\n",
       "       ['no'],\n",
       "       ['yes'],\n",
       "       ['yes'],\n",
       "       ['no'],\n",
       "       ['no'],\n",
       "       ['yes'],\n",
       "       ['yes'],\n",
       "       ['yes'],\n",
       "       ['yes'],\n",
       "       ['yes'],\n",
       "       ['yes'],\n",
       "       ['yes'],\n",
       "       ['yes'],\n",
       "       ['no'],\n",
       "       ['yes'],\n",
       "       ['no'],\n",
       "       ['yes'],\n",
       "       ['yes'],\n",
       "       ['yes'],\n",
       "       ['yes'],\n",
       "       ['no'],\n",
       "       ['yes'],\n",
       "       ['yes'],\n",
       "       ['no'],\n",
       "       ['no'],\n",
       "       ['no'],\n",
       "       ['no'],\n",
       "       ['no'],\n",
       "       ['no'],\n",
       "       ['no'],\n",
       "       ['no'],\n",
       "       ['no'],\n",
       "       ['no'],\n",
       "       ['yes'],\n",
       "       ['yes'],\n",
       "       ['yes'],\n",
       "       ['no'],\n",
       "       ['no'],\n",
       "       ['no'],\n",
       "       ['no'],\n",
       "       ['no'],\n",
       "       ['yes'],\n",
       "       ['yes'],\n",
       "       ['no'],\n",
       "       ['no'],\n",
       "       ['no'],\n",
       "       ['yes'],\n",
       "       ['yes'],\n",
       "       ['yes'],\n",
       "       ['no'],\n",
       "       ['no'],\n",
       "       ['yes'],\n",
       "       ['yes'],\n",
       "       ['no'],\n",
       "       ['no'],\n",
       "       ['yes'],\n",
       "       ['yes'],\n",
       "       ['no'],\n",
       "       ['no'],\n",
       "       ['no'],\n",
       "       ['no'],\n",
       "       ['yes'],\n",
       "       ['yes'],\n",
       "       ['no'],\n",
       "       ['yes'],\n",
       "       ['no'],\n",
       "       ['no'],\n",
       "       ['no'],\n",
       "       ['yes'],\n",
       "       ['yes'],\n",
       "       ['no'],\n",
       "       ['no'],\n",
       "       ['no'],\n",
       "       ['yes'],\n",
       "       ['no'],\n",
       "       ['no'],\n",
       "       ['no'],\n",
       "       ['yes'],\n",
       "       ['no'],\n",
       "       ['no'],\n",
       "       ['no'],\n",
       "       ['no'],\n",
       "       ['no']], dtype=object)"
      ]
     },
     "execution_count": 25,
     "metadata": {},
     "output_type": "execute_result"
    }
   ],
   "source": [
    "Y"
   ]
  },
  {
   "cell_type": "markdown",
   "metadata": {},
   "source": [
    "Encoding(converting categorical values into numberic)"
   ]
  },
  {
   "cell_type": "code",
   "execution_count": 26,
   "metadata": {},
   "outputs": [],
   "source": [
    "from sklearn import preprocessing\n",
    "  \n",
    "# label_encoder object knows how to understand word labels.\n",
    "labelencoder = preprocessing.LabelEncoder()\n",
    "\n",
    "for ij in range(0,5):\n",
    "    X[:,ij] = labelencoder.fit_transform(array[:, ij])\n",
    "Y = labelencoder.fit_transform(array[:,5])\n",
    "  \n"
   ]
  },
  {
   "cell_type": "code",
   "execution_count": 27,
   "metadata": {},
   "outputs": [
    {
     "data": {
      "text/plain": [
       "array([[0, 0, 0, 1, 1],\n",
       "       [0, 0, 1, 0, 0],\n",
       "       [1, 0, 0, 1, 1],\n",
       "       [1, 0, 1, 0, 0],\n",
       "       [1, 0, 1, 0, 0],\n",
       "       [2, 0, 0, 1, 1],\n",
       "       [2, 0, 1, 0, 0],\n",
       "       [3, 0, 0, 1, 1],\n",
       "       [4, 0, 0, 1, 1],\n",
       "       [4, 0, 0, 1, 1],\n",
       "       [4, 0, 1, 0, 0],\n",
       "       [4, 0, 1, 0, 0],\n",
       "       [5, 0, 0, 1, 1],\n",
       "       [5, 0, 1, 0, 0],\n",
       "       [5, 0, 1, 0, 0],\n",
       "       [6, 0, 0, 1, 1],\n",
       "       [6, 0, 0, 1, 1],\n",
       "       [7, 0, 0, 1, 1],\n",
       "       [7, 0, 1, 0, 0],\n",
       "       [8, 0, 0, 1, 1],\n",
       "       [8, 0, 0, 1, 1],\n",
       "       [8, 0, 1, 0, 0],\n",
       "       [8, 0, 0, 1, 1],\n",
       "       [8, 0, 0, 1, 1],\n",
       "       [8, 0, 0, 1, 1],\n",
       "       [8, 0, 0, 1, 1],\n",
       "       [8, 0, 0, 1, 0],\n",
       "       [9, 0, 1, 0, 0],\n",
       "       [9, 0, 0, 1, 1],\n",
       "       [9, 0, 0, 1, 0],\n",
       "       [10, 0, 0, 1, 1],\n",
       "       [10, 0, 1, 0, 0],\n",
       "       [10, 0, 0, 1, 0],\n",
       "       [11, 0, 1, 0, 0],\n",
       "       [11, 0, 0, 1, 1],\n",
       "       [11, 0, 0, 1, 0],\n",
       "       [12, 0, 1, 0, 0],\n",
       "       [12, 0, 0, 1, 0],\n",
       "       [13, 0, 0, 1, 1],\n",
       "       [13, 0, 1, 0, 0],\n",
       "       [13, 0, 1, 0, 0],\n",
       "       [13, 0, 0, 1, 1],\n",
       "       [13, 0, 0, 1, 0],\n",
       "       [13, 0, 0, 1, 0],\n",
       "       [14, 0, 0, 1, 1],\n",
       "       [14, 0, 0, 1, 1],\n",
       "       [14, 0, 0, 1, 1],\n",
       "       [15, 0, 0, 1, 1],\n",
       "       [15, 0, 0, 1, 1],\n",
       "       [15, 0, 1, 0, 0],\n",
       "       [15, 0, 0, 1, 0],\n",
       "       [16, 0, 1, 0, 0],\n",
       "       [16, 0, 0, 1, 1],\n",
       "       [16, 0, 0, 1, 0],\n",
       "       [17, 0, 0, 1, 1],\n",
       "       [17, 0, 0, 1, 1],\n",
       "       [17, 0, 1, 0, 0],\n",
       "       [17, 0, 0, 1, 1],\n",
       "       [17, 0, 0, 1, 0],\n",
       "       [18, 0, 1, 1, 0],\n",
       "       [18, 0, 1, 1, 0],\n",
       "       [19, 0, 1, 1, 0],\n",
       "       [20, 0, 1, 1, 0],\n",
       "       [21, 0, 1, 1, 0],\n",
       "       [22, 0, 1, 1, 0],\n",
       "       [23, 0, 1, 1, 0],\n",
       "       [24, 0, 1, 1, 0],\n",
       "       [25, 0, 1, 1, 0],\n",
       "       [26, 0, 1, 1, 0],\n",
       "       [27, 1, 1, 1, 1],\n",
       "       [27, 1, 1, 1, 1],\n",
       "       [27, 1, 1, 1, 1],\n",
       "       [27, 0, 0, 0, 0],\n",
       "       [27, 0, 0, 0, 0],\n",
       "       [27, 1, 1, 0, 1],\n",
       "       [27, 1, 1, 0, 1],\n",
       "       [27, 0, 1, 1, 0],\n",
       "       [28, 1, 1, 1, 1],\n",
       "       [29, 1, 1, 1, 1],\n",
       "       [29, 0, 0, 0, 0],\n",
       "       [29, 1, 1, 0, 1],\n",
       "       [30, 0, 1, 1, 0],\n",
       "       [31, 1, 1, 1, 1],\n",
       "       [31, 1, 1, 1, 1],\n",
       "       [31, 1, 1, 1, 1],\n",
       "       [31, 0, 0, 0, 0],\n",
       "       [31, 1, 1, 0, 1],\n",
       "       [32, 1, 1, 1, 1],\n",
       "       [33, 1, 1, 1, 1],\n",
       "       [33, 0, 0, 0, 0],\n",
       "       [33, 1, 1, 0, 1],\n",
       "       [34, 1, 1, 1, 1],\n",
       "       [34, 1, 1, 1, 1],\n",
       "       [34, 0, 0, 0, 0],\n",
       "       [34, 1, 1, 0, 1],\n",
       "       [34, 0, 1, 1, 0],\n",
       "       [35, 0, 1, 1, 0],\n",
       "       [36, 1, 1, 1, 1],\n",
       "       [36, 1, 1, 1, 1],\n",
       "       [36, 0, 1, 1, 0],\n",
       "       [37, 1, 1, 1, 1],\n",
       "       [37, 0, 0, 0, 0],\n",
       "       [37, 1, 1, 0, 1],\n",
       "       [37, 0, 1, 1, 0],\n",
       "       [38, 1, 1, 1, 1],\n",
       "       [38, 1, 1, 1, 1],\n",
       "       [38, 0, 0, 0, 0],\n",
       "       [38, 1, 1, 0, 1],\n",
       "       [38, 0, 1, 1, 0],\n",
       "       [39, 1, 1, 1, 1],\n",
       "       [39, 0, 0, 0, 0],\n",
       "       [39, 1, 1, 0, 1],\n",
       "       [39, 0, 1, 1, 0],\n",
       "       [40, 1, 1, 1, 1],\n",
       "       [41, 0, 1, 1, 0],\n",
       "       [42, 0, 0, 0, 0],\n",
       "       [42, 1, 1, 0, 1],\n",
       "       [42, 0, 1, 1, 0],\n",
       "       [42, 0, 1, 1, 0]], dtype=object)"
      ]
     },
     "execution_count": 27,
     "metadata": {},
     "output_type": "execute_result"
    }
   ],
   "source": [
    "X"
   ]
  },
  {
   "cell_type": "code",
   "execution_count": 28,
   "metadata": {},
   "outputs": [
    {
     "data": {
      "text/plain": [
       "array([1, 0, 1, 0, 0, 1, 0, 1, 1, 1, 0, 0, 1, 0, 0, 1, 1, 1, 0, 0, 0, 0,\n",
       "       1, 1, 1, 1, 0, 0, 1, 0, 0, 0, 0, 0, 1, 0, 0, 0, 0, 0, 0, 1, 0, 0,\n",
       "       0, 0, 1, 0, 0, 0, 0, 0, 1, 0, 0, 0, 0, 1, 0, 1, 1, 1, 1, 1, 1, 1,\n",
       "       1, 1, 1, 1, 1, 0, 0, 0, 0, 0, 1, 0, 1, 0, 0, 1, 1, 0, 0, 0, 0, 0,\n",
       "       1, 0, 0, 1, 0, 0, 0, 1, 1, 0, 0, 1, 1, 0, 0, 1, 1, 0, 0, 0, 1, 1,\n",
       "       0, 0, 1, 0, 1, 0, 0, 1, 1])"
      ]
     },
     "execution_count": 28,
     "metadata": {},
     "output_type": "execute_result"
    }
   ],
   "source": [
    "Y"
   ]
  },
  {
   "cell_type": "markdown",
   "metadata": {},
   "source": [
    "# Train-Test Split"
   ]
  },
  {
   "cell_type": "code",
   "execution_count": 29,
   "metadata": {},
   "outputs": [],
   "source": [
    "from sklearn.model_selection import train_test_split\n",
    "x_train, x_test, y_train, y_test = train_test_split(X, Y, test_size=0.25, random_state=42)\n"
   ]
  },
  {
   "cell_type": "markdown",
   "metadata": {},
   "source": [
    "# 5. Modelling"
   ]
  },
  {
   "cell_type": "code",
   "execution_count": 30,
   "metadata": {},
   "outputs": [],
   "source": [
    "from sklearn.linear_model import LogisticRegression"
   ]
  },
  {
   "cell_type": "code",
   "execution_count": 33,
   "metadata": {},
   "outputs": [],
   "source": [
    "# classify function\n",
    "from sklearn.model_selection import cross_val_score\n",
    "def classify(model, x, y):\n",
    "    x_train, x_test, y_train, y_test = train_test_split(X, y, test_size=0.25, random_state=42)\n",
    "    model.fit(x_train, y_train)\n",
    "    print(\"Accuracy is\", model.score(x_test, y_test)*100)\n",
    "    # cross validation - it is used for better validation of model\n",
    "    # eg: cv-5, train-4, test-1\n",
    "    score = cross_val_score(model, x, y, cv=5)\n",
    "    print(\"Cross validation is\",np.mean(score)*100)\n",
    "    "
   ]
  },
  {
   "cell_type": "markdown",
   "metadata": {},
   "source": [
    "# Decision tree"
   ]
  },
  {
   "cell_type": "code",
   "execution_count": 34,
   "metadata": {},
   "outputs": [
    {
     "name": "stdout",
     "output_type": "stream",
     "text": [
      "Accuracy is 83.33333333333334\n",
      "Cross validation is 78.22463768115941\n"
     ]
    }
   ],
   "source": [
    "from sklearn.tree import DecisionTreeClassifier\n",
    "model = DecisionTreeClassifier(criterion = \"entropy\")\n",
    "DT=classify(model, X, Y)"
   ]
  },
  {
   "cell_type": "markdown",
   "metadata": {},
   "source": [
    "# Random Forest"
   ]
  },
  {
   "cell_type": "code",
   "execution_count": 35,
   "metadata": {},
   "outputs": [
    {
     "name": "stdout",
     "output_type": "stream",
     "text": [
      "Accuracy is 83.33333333333334\n",
      "Cross validation is 75.68840579710145\n"
     ]
    }
   ],
   "source": [
    "from sklearn.ensemble import RandomForestClassifier\n",
    "model = RandomForestClassifier()\n",
    "classify(model, X, Y)"
   ]
  },
  {
   "cell_type": "markdown",
   "metadata": {},
   "source": [
    "# Confusion Matrix\n",
    "\n",
    "A confusion matrix is a summary of prediction results on a classification problem. The number of correct and incorrect predictions are summarized with count values and broken down by each class. It gives us insight not only into the errors being made by a classifier but more importantly the types of errors that are being made."
   ]
  },
  {
   "cell_type": "code",
   "execution_count": 36,
   "metadata": {},
   "outputs": [
    {
     "data": {
      "text/plain": [
       "RandomForestClassifier(bootstrap=True, class_weight=None, criterion='gini',\n",
       "                       max_depth=None, max_features='auto', max_leaf_nodes=None,\n",
       "                       min_impurity_decrease=0.0, min_impurity_split=None,\n",
       "                       min_samples_leaf=1, min_samples_split=2,\n",
       "                       min_weight_fraction_leaf=0.0, n_estimators=10,\n",
       "                       n_jobs=None, oob_score=False, random_state=None,\n",
       "                       verbose=0, warm_start=False)"
      ]
     },
     "execution_count": 36,
     "metadata": {},
     "output_type": "execute_result"
    }
   ],
   "source": [
    "model = RandomForestClassifier()\n",
    "model.fit(x_train, y_train)"
   ]
  },
  {
   "cell_type": "code",
   "execution_count": 37,
   "metadata": {},
   "outputs": [
    {
     "data": {
      "text/plain": [
       "array([[15,  2],\n",
       "       [ 4,  9]], dtype=int64)"
      ]
     },
     "execution_count": 37,
     "metadata": {},
     "output_type": "execute_result"
    }
   ],
   "source": [
    "from sklearn.metrics import confusion_matrix\n",
    "y_pred = model.predict(x_test)\n",
    "cm = confusion_matrix(y_test, y_pred)\n",
    "cm"
   ]
  },
  {
   "cell_type": "code",
   "execution_count": 38,
   "metadata": {},
   "outputs": [
    {
     "data": {
      "text/plain": [
       "<matplotlib.axes._subplots.AxesSubplot at 0x1d3cddffac8>"
      ]
     },
     "execution_count": 38,
     "metadata": {},
     "output_type": "execute_result"
    },
    {
     "data": {
      "image/png": "[encoded data removed]",
      "text/plain": [
       "<Figure size 432x288 with 2 Axes>"
      ]
     },
     "metadata": {
      "needs_background": "light"
     },
     "output_type": "display_data"
    }
   ],
   "source": [
    "sns.heatmap(cm, annot=True)"
   ]
  },
  {
   "cell_type": "code",
   "execution_count": 39,
   "metadata": {},
   "outputs": [
    {
     "data": {
      "text/plain": [
       "DecisionTreeClassifier(class_weight=None, criterion='gini', max_depth=None,\n",
       "                       max_features=None, max_leaf_nodes=None,\n",
       "                       min_impurity_decrease=0.0, min_impurity_split=None,\n",
       "                       min_samples_leaf=1, min_samples_split=2,\n",
       "                       min_weight_fraction_leaf=0.0, presort=False,\n",
       "                       random_state=None, splitter='best')"
      ]
     },
     "execution_count": 39,
     "metadata": {},
     "output_type": "execute_result"
    }
   ],
   "source": [
    "model1 = DecisionTreeClassifier()\n",
    "model1.fit(x_train, y_train)"
   ]
  },
  {
   "cell_type": "code",
   "execution_count": 40,
   "metadata": {},
   "outputs": [
    {
     "data": {
      "text/plain": [
       "array([[15,  2],\n",
       "       [ 3, 10]], dtype=int64)"
      ]
     },
     "execution_count": 40,
     "metadata": {},
     "output_type": "execute_result"
    }
   ],
   "source": [
    "from sklearn.metrics import confusion_matrix\n",
    "y_pred = model1.predict(x_test)\n",
    "cm = confusion_matrix(y_test, y_pred)\n",
    "cm"
   ]
  },
  {
   "cell_type": "code",
   "execution_count": 41,
   "metadata": {},
   "outputs": [
    {
     "data": {
      "text/plain": [
       "<matplotlib.axes._subplots.AxesSubplot at 0x1d3ce14ad48>"
      ]
     },
     "execution_count": 41,
     "metadata": {},
     "output_type": "execute_result"
    },
    {
     "data": {
      "image/png": "[encoded data removed]",
      "text/plain": [
       "<Figure size 432x288 with 2 Axes>"
      ]
     },
     "metadata": {
      "needs_background": "light"
     },
     "output_type": "display_data"
    }
   ],
   "source": [
    "sns.heatmap(cm, annot=True)"
   ]
  },
  {
   "cell_type": "code",
   "execution_count": 42,
   "metadata": {},
   "outputs": [],
   "source": [
    "import pickle\n",
    "import zipfile"
   ]
  },
  {
   "cell_type": "code",
   "execution_count": 43,
   "metadata": {},
   "outputs": [
    {
     "name": "stdout",
     "output_type": "stream",
     "text": [
      "Export the model to model.pkl\n"
     ]
    }
   ],
   "source": [
    "print(\"Export the model to model.pkl\")\n",
    "f = open('model.pkl', 'wb')\n",
    "pickle.dump(DT, f)\n",
    "f.close()"
   ]
  },
  {
   "cell_type": "code",
   "execution_count": 44,
   "metadata": {},
   "outputs": [],
   "source": [
    "zipfile.ZipFile('model.zip', mode = 'w').write('model.pkl')"
   ]
  },
  {
   "cell_type": "code",
   "execution_count": null,
   "metadata": {},
   "outputs": [],
   "source": []
  }
 ],
 "metadata": {
  "kernelspec": {
   "display_name": "Python 3",
   "language": "python",
   "name": "python3"
  },
  "language_info": {
   "codemirror_mode": {
    "name": "ipython",
    "version": 3
   },
   "file_extension": ".py",
   "mimetype": "text/x-python",
   "name": "python",
   "nbconvert_exporter": "python",
   "pygments_lexer": "ipython3",
   "version": "3.7.4"
  }
 },
 "nbformat": 4,
 "nbformat_minor": 2
}
